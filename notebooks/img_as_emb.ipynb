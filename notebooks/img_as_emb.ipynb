{
 "cells": [
  {
   "cell_type": "code",
   "execution_count": null,
   "outputs": [],
   "source": [
    "!pip install keras_vggface"
   ],
   "metadata": {
    "collapsed": false,
    "pycharm": {
     "name": "#%%\n"
    }
   }
  },
  {
   "cell_type": "code",
   "execution_count": null,
   "outputs": [],
   "source": [
    "!git clone https://github.com/plutasnyy/kinship-relationship-recognition.git"
   ],
   "metadata": {
    "collapsed": false,
    "pycharm": {
     "name": "#%%\n"
    }
   }
  },
  {
   "cell_type": "code",
   "execution_count": 26,
   "outputs": [
    {
     "name": "stdout",
     "text": [
      "START\n",
      ".",
      ".",
      ".",
      ".",
      "Construct batch\n",
      "100\n"
     ],
     "output_type": "stream"
    }
   ],
   "source": [
    "import pandas as pd\n",
    "import glob\n",
    "import numpy as np\n",
    "from random import sample\n",
    "from keras import Sequential\n",
    "from keras.layers import Dense\n",
    "from keras.optimizers import Adam\n",
    "from keras_vggface import VGGFace, utils\n",
    "from sklearn.model_selection import train_test_split\n",
    "from keras.preprocessing import image\n",
    "from sklearn.utils import shuffle\n",
    "DATA_PATH = '/content/kinship-relationship-recognition/data/'\n",
    "\n",
    "RELATIONSHIPS_PATH = DATA_PATH + 'train_relationships.csv'\n",
    "IMAGE_EXPRESSION = DATA_PATH + 'train/{}/*'\n",
    "PEOPLE_NAMES_EXPRESSION = DATA_PATH + 'train/*/*'\n",
    "TRAIN_PATH = DATA_PATH + 'train/'\n",
    "TEST_PATH = DATA_PATH + 'test/'\n",
    "CSV_TEST = DATA_PATH + 'sample_submission.csv'\n",
    "\n",
    "HALF_DATA_SET_SIZE = 150000\n",
    "print(\"START\")\n",
    "\n",
    "def is_pair_in_relation(relations, pair):\n",
    "    p1, p2 = pair\n",
    "    if p1 == p2:\n",
    "        return True\n",
    "    return relations.query('p1==\"{}\" and p2==\"{}\" or p1==\"{}\" and p2==\"{}\"'.format(p1, p2, p2, p1))['p1'].count() != 0\n",
    "\n",
    "\n",
    "def clean_relations_batch(relations_batch, people_names):\n",
    "    relations = relations_batch.values\n",
    "    result = dict()\n",
    "    result['p1'], result['p2'] = list(), list()\n",
    "    for p1, p2 in relations:\n",
    "        # TODO instead of pd -> numpy -> pd filter on data frame\n",
    "        if p1 in people_names and p2 in people_names:\n",
    "            result['p1'].append(p1)\n",
    "            result['p2'].append(p2)\n",
    "    return pd.DataFrame.from_dict(result)\n",
    "\n",
    "print('.',end='',flush=True)\n",
    "relations_df = pd.read_csv(RELATIONSHIPS_PATH)\n",
    "\n",
    "\n",
    "print('.',end='',flush=True)\n",
    "names = glob.glob(PEOPLE_NAMES_EXPRESSION)\n",
    "people_names = [name.replace(TRAIN_PATH, '') for name in names]\n",
    "\n",
    "print('.',end='',flush=True)\n",
    "relations_df = clean_relations_batch(relations_df, people_names)\n",
    "relations_batch = relations_df.sample(HALF_DATA_SET_SIZE, replace=True).values.tolist()\n",
    "\n",
    "print('.',end='',flush=True)\n",
    "not_relations_batch = list()\n",
    "\n",
    "while len(not_relations_batch) < HALF_DATA_SET_SIZE:\n",
    "    random_pair = sample(people_names, 2)\n",
    "    if not is_pair_in_relation(relations_df, random_pair):\n",
    "        not_relations_batch.append(random_pair)\n",
    "print(\"Done\")"
   ],
   "metadata": {
    "collapsed": false,
    "pycharm": {
     "name": "#%% Create Image Pairs\n",
     "is_executing": false
    }
   }
  },
  {
   "cell_type": "code",
   "execution_count": null,
   "outputs": [],
   "source": [
    "from keras.preprocessing.image import ImageDataGenerator\n",
    "\n",
    "model = VGGFace(model='resnet50',  include_top=False, input_shape=(224, 224, 3), pooling='avg')\n",
    "datagen = ImageDataGenerator(\n",
    "    rotation_range=20,\n",
    "    rescale=1./255,\n",
    "    shear_range=0.2,\n",
    "    zoom_range=0.2,\n",
    "    width_shift_range=0.2,\n",
    "    height_shift_range=0.2,\n",
    "    horizontal_flip=True)\n",
    "\n",
    "class EmptyFolderSadSituation(BaseException):\n",
    "    pass\n",
    "\n",
    "def prepare_image(path, transform = False):\n",
    "    img = image.load_img(path, target_size=(224, 224,3))\n",
    "    x = image.img_to_array(img)\n",
    "    if transform:\n",
    "        x = datagen.random_transform(x)\n",
    "    x = np.expand_dims(x, axis=0)\n",
    "    x = utils.preprocess_input(x, version=2)\n",
    "    preds = model.predict(x)\n",
    "    return preds\n",
    "\n",
    "def preprocess_image(person_directory_path):\n",
    "    paths = glob.glob(person_directory_path)\n",
    "    if len(paths) == 0:\n",
    "        raise EmptyFolderSadSituation\n",
    "    image_path = sample(paths, 1)[0]\n",
    "    x = prepare_image(image_path, True)\n",
    "    return x\n",
    "\n",
    "  \n",
    "\n",
    "def construct_batch(relations_list):\n",
    "    pairs = list()\n",
    "    Y = list()\n",
    "    z=0\n",
    "    for i, relations in enumerate(relations_list):\n",
    "        for left_image_name, right_image_name in relations:\n",
    "            try:\n",
    "                left = preprocess_image(IMAGE_EXPRESSION.format(left_image_name))\n",
    "                right = preprocess_image(IMAGE_EXPRESSION.format(right_image_name))\n",
    "                pairs.append([left,right])\n",
    "                # pairs.append(np.concatenate((left,right),axis=None))\n",
    "                Y += [i]\n",
    "            except EmptyFolderSadSituation:\n",
    "                pass # really sad\n",
    "            z+=1\n",
    "            if z%2500 == 0:\n",
    "                print(z)\n",
    "    return pairs, Y\n",
    "  \n",
    "print(\"Construct batch\")\n",
    "pairs, Y = construct_batch([not_relations_batch, relations_batch])\n",
    "print(\"Done\")\n"
   ],
   "metadata": {
    "collapsed": false,
    "pycharm": {
     "name": "#%% Construct batch\n"
    }
   }
  },
  {
   "cell_type": "code",
   "execution_count": 27,
   "outputs": [
    {
     "name": "stdout",
     "text": [
      ".",
      ".",
      "(100, 4096)\nData loaded\n"
     ],
     "output_type": "stream"
    }
   ],
   "source": [
    "X = np.array(pairs)\n",
    "y = np.array(Y)\n",
    "\n",
    "left = X[:,0]\n",
    "right = X[:,1]\n",
    "print('.',end='',flush=True)\n",
    "# left_result, right_result = model.predict(left), model.predict(right)\n",
    "print('.',end='',flush=True)\n",
    "X = np.concatenate((left,right),axis=2).squeeze(axis=1)\n",
    "print(X.shape)\n",
    "print('Data loaded')"
   ],
   "metadata": {
    "collapsed": false,
    "pycharm": {
     "name": "#%% Map to vector\n",
     "is_executing": false
    }
   }
  },
  {
   "cell_type": "code",
   "execution_count": 28,
   "outputs": [
    {
     "name": "stdout",
     "text": [
      "Train on 80 samples, validate on 20 samples\nEpoch 1/30\n",
      "\r32/80 [===========>..................] - ETA: 7s - loss: 1.6443 - acc: 0.5000",
      "\b\b\b\b\b\b\b\b\b\b\b\b\b\b\b\b\b\b\b\b\b\b\b\b\b\b\b\b\b\b\b\b\b\b\b\b\b\b\b\b\b\b\b\b\b\b\b\b\b\b\b\b\b\b\b\b\b\b\b\b\b\b\b\b\b\b\b\b\b\b\b\b\b\b\b\b\b\r64/80 [=======================>......] - ETA: 1s - loss: 1.2141 - acc: 0.6094",
      "\b\b\b\b\b\b\b\b\b\b\b\b\b\b\b\b\b\b\b\b\b\b\b\b\b\b\b\b\b\b\b\b\b\b\b\b\b\b\b\b\b\b\b\b\b\b\b\b\b\b\b\b\b\b\b\b\b\b\b\b\b\b\b\b\b\b\b\b\b\b\b\b\b\b\b\b\b\r80/80 [==============================] - 6s 76ms/step - loss: 1.2009 - acc: 0.5875 - val_loss: 0.6695 - val_acc: 0.6500\n",
      "Epoch 2/30\n",
      "\r32/80 [===========>..................] - ETA: 0s - loss: 1.2797 - acc: 0.4688",
      "\b\b\b\b\b\b\b\b\b\b\b\b\b\b\b\b\b\b\b\b\b\b\b\b\b\b\b\b\b\b\b\b\b\b\b\b\b\b\b\b\b\b\b\b\b\b\b\b\b\b\b\b\b\b\b\b\b\b\b\b\b\b\b\b\b\b\b\b\b\b\b\b\b\b\b\b\b\r64/80 [=======================>......] - ETA: 0s - loss: 1.4420 - acc: 0.5156",
      "\b\b\b\b\b\b\b\b\b\b\b\b\b\b\b\b\b\b\b\b\b\b\b\b\b\b\b\b\b\b\b\b\b\b\b\b\b\b\b\b\b\b\b\b\b\b\b\b\b\b\b\b\b\b\b\b\b\b\b\b\b\b\b\b\b\b\b\b\b\b\b\b\b\b\b\b\b\r80/80 [==============================] - 1s 13ms/step - loss: 1.4731 - acc: 0.4750 - val_loss: 0.7019 - val_acc: 0.6500\n",
      "Epoch 3/30\n",
      "\r32/80 [===========>..................] - ETA: 0s - loss: 0.8180 - acc: 0.7188",
      "\b\b\b\b\b\b\b\b\b\b\b\b\b\b\b\b\b\b\b\b\b\b\b\b\b\b\b\b\b\b\b\b\b\b\b\b\b\b\b\b\b\b\b\b\b\b\b\b\b\b\b\b\b\b\b\b\b\b\b\b\b\b\b\b\b\b\b\b\b\b\b\b\b\b\b\b\b\r64/80 [=======================>......] - ETA: 0s - loss: 1.3531 - acc: 0.5156",
      "\b\b\b\b\b\b\b\b\b\b\b\b\b\b\b\b\b\b\b\b\b\b\b\b\b\b\b\b\b\b\b\b\b\b\b\b\b\b\b\b\b\b\b\b\b\b\b\b\b\b\b\b\b\b\b\b\b\b\b\b\b\b\b\b\b\b\b\b\b\b\b\b\b\b\b\b\b\r80/80 [==============================] - 1s 14ms/step - loss: 1.2314 - acc: 0.5500 - val_loss: 0.6889 - val_acc: 0.7500\n",
      "Epoch 4/30\n",
      "\r32/80 [===========>..................] - ETA: 0s - loss: 0.6415 - acc: 0.7500",
      "\b\b\b\b\b\b\b\b\b\b\b\b\b\b\b\b\b\b\b\b\b\b\b\b\b\b\b\b\b\b\b\b\b\b\b\b\b\b\b\b\b\b\b\b\b\b\b\b\b\b\b\b\b\b\b\b\b\b\b\b\b\b\b\b\b\b\b\b\b\b\b\b\b\b\b\b\b\r64/80 [=======================>......] - ETA: 0s - loss: 0.8070 - acc: 0.6875",
      "\b\b\b\b\b\b\b\b\b\b\b\b\b\b\b\b\b\b\b\b\b\b\b\b\b\b\b\b\b\b\b\b\b\b\b\b\b\b\b\b\b\b\b\b\b\b\b\b\b\b\b\b\b\b\b\b\b\b\b\b\b\b\b\b\b\b\b\b\b\b\b\b\b\b\b\b\b\r80/80 [==============================] - 1s 14ms/step - loss: 0.8427 - acc: 0.6625 - val_loss: 0.6614 - val_acc: 0.7000\n",
      "Epoch 5/30\n",
      "\r32/80 [===========>..................] - ETA: 0s - loss: 1.1121 - acc: 0.5938",
      "\b\b\b\b\b\b\b\b\b\b\b\b\b\b\b\b\b\b\b\b\b\b\b\b\b\b\b\b\b\b\b\b\b\b\b\b\b\b\b\b\b\b\b\b\b\b\b\b\b\b\b\b\b\b\b\b\b\b\b\b\b\b\b\b\b\b\b\b\b\b\b\b\b\b\b\b\b\r64/80 [=======================>......] - ETA: 0s - loss: 0.9765 - acc: 0.6406",
      "\b\b\b\b\b\b\b\b\b\b\b\b\b\b\b\b\b\b\b\b\b\b\b\b\b\b\b\b\b\b\b\b\b\b\b\b\b\b\b\b\b\b\b\b\b\b\b\b\b\b\b\b\b\b\b\b\b\b\b\b\b\b\b\b\b\b\b\b\b\b\b\b\b\b\b\b\b\r80/80 [==============================] - 1s 14ms/step - loss: 0.9708 - acc: 0.6500 - val_loss: 0.6669 - val_acc: 0.6500\n",
      "Epoch 6/30\n",
      "\r32/80 [===========>..................] - ETA: 0s - loss: 0.9559 - acc: 0.5000",
      "\b\b\b\b\b\b\b\b\b\b\b\b\b\b\b\b\b\b\b\b\b\b\b\b\b\b\b\b\b\b\b\b\b\b\b\b\b\b\b\b\b\b\b\b\b\b\b\b\b\b\b\b\b\b\b\b\b\b\b\b\b\b\b\b\b\b\b\b\b\b\b\b\b\b\b\b\b\r64/80 [=======================>......] - ETA: 0s - loss: 0.9866 - acc: 0.5781",
      "\b\b\b\b\b\b\b\b\b\b\b\b\b\b\b\b\b\b\b\b\b\b\b\b\b\b\b\b\b\b\b\b\b\b\b\b\b\b\b\b\b\b\b\b\b\b\b\b\b\b\b\b\b\b\b\b\b\b\b\b\b\b\b\b\b\b\b\b\b\b\b\b\b\b\b\b\b\r80/80 [==============================] - 1s 14ms/step - loss: 0.9477 - acc: 0.6000 - val_loss: 0.6834 - val_acc: 0.6500\n",
      "Epoch 7/30\n",
      "\r32/80 [===========>..................] - ETA: 0s - loss: 0.6559 - acc: 0.6875",
      "\b\b\b\b\b\b\b\b\b\b\b\b\b\b\b\b\b\b\b\b\b\b\b\b\b\b\b\b\b\b\b\b\b\b\b\b\b\b\b\b\b\b\b\b\b\b\b\b\b\b\b\b\b\b\b\b\b\b\b\b\b\b\b\b\b\b\b\b\b\b\b\b\b\b\b\b\b\r64/80 [=======================>......] - ETA: 0s - loss: 0.8117 - acc: 0.6406",
      "\b\b\b\b\b\b\b\b\b\b\b\b\b\b\b\b\b\b\b\b\b\b\b\b\b\b\b\b\b\b\b\b\b\b\b\b\b\b\b\b\b\b\b\b\b\b\b\b\b\b\b\b\b\b\b\b\b\b\b\b\b\b\b\b\b\b\b\b\b\b\b\b\b\b\b\b\b\r80/80 [==============================] - 1s 14ms/step - loss: 0.8590 - acc: 0.6500 - val_loss: 0.6931 - val_acc: 0.6500\n",
      "Epoch 8/30\n",
      "\r32/80 [===========>..................] - ETA: 0s - loss: 0.8045 - acc: 0.6250",
      "\b\b\b\b\b\b\b\b\b\b\b\b\b\b\b\b\b\b\b\b\b\b\b\b\b\b\b\b\b\b\b\b\b\b\b\b\b\b\b\b\b\b\b\b\b\b\b\b\b\b\b\b\b\b\b\b\b\b\b\b\b\b\b\b\b\b\b\b\b\b\b\b\b\b\b\b\b\r64/80 [=======================>......] - ETA: 0s - loss: 0.8284 - acc: 0.6406",
      "\b\b\b\b\b\b\b\b\b\b\b\b\b\b\b\b\b\b\b\b\b\b\b\b\b\b\b\b\b\b\b\b\b\b\b\b\b\b\b\b\b\b\b\b\b\b\b\b\b\b\b\b\b\b\b\b\b\b\b\b\b\b\b\b\b\b\b\b\b\b\b\b\b\b\b\b\b\r80/80 [==============================] - 1s 14ms/step - loss: 0.7833 - acc: 0.6500 - val_loss: 0.7135 - val_acc: 0.6000\n",
      "Epoch 9/30\n",
      "\r32/80 [===========>..................] - ETA: 0s - loss: 0.7565 - acc: 0.8125",
      "\b\b\b\b\b\b\b\b\b\b\b\b\b\b\b\b\b\b\b\b\b\b\b\b\b\b\b\b\b\b\b\b\b\b\b\b\b\b\b\b\b\b\b\b\b\b\b\b\b\b\b\b\b\b\b\b\b\b\b\b\b\b\b\b\b\b\b\b\b\b\b\b\b\b\b\b\b\r64/80 [=======================>......] - ETA: 0s - loss: 0.7155 - acc: 0.7500",
      "\b\b\b\b\b\b\b\b\b\b\b\b\b\b\b\b\b\b\b\b\b\b\b\b\b\b\b\b\b\b\b\b\b\b\b\b\b\b\b\b\b\b\b\b\b\b\b\b\b\b\b\b\b\b\b\b\b\b\b\b\b\b\b\b\b\b\b\b\b\b\b\b\b\b\b\b\b\r80/80 [==============================] - 1s 14ms/step - loss: 0.7893 - acc: 0.7250 - val_loss: 0.7373 - val_acc: 0.6500\n",
      "Epoch 10/30\n",
      "\r32/80 [===========>..................] - ETA: 0s - loss: 0.3448 - acc: 0.8438",
      "\b\b\b\b\b\b\b\b\b\b\b\b\b\b\b\b\b\b\b\b\b\b\b\b\b\b\b\b\b\b\b\b\b\b\b\b\b\b\b\b\b\b\b\b\b\b\b\b\b\b\b\b\b\b\b\b\b\b\b\b\b\b\b\b\b\b\b\b\b\b\b\b\b\b\b\b\b\r64/80 [=======================>......] - ETA: 0s - loss: 0.4563 - acc: 0.7969",
      "\b\b\b\b\b\b\b\b\b\b\b\b\b\b\b\b\b\b\b\b\b\b\b\b\b\b\b\b\b\b\b\b\b\b\b\b\b\b\b\b\b\b\b\b\b\b\b\b\b\b\b\b\b\b\b\b\b\b\b\b\b\b\b\b\b\b\b\b\b\b\b\b\b\b\b\b\b\r80/80 [==============================] - 1s 14ms/step - loss: 0.4847 - acc: 0.7875 - val_loss: 0.7573 - val_acc: 0.6500\n",
      "Epoch 11/30\n",
      "\r32/80 [===========>..................] - ETA: 0s - loss: 0.7013 - acc: 0.7500",
      "\b\b\b\b\b\b\b\b\b\b\b\b\b\b\b\b\b\b\b\b\b\b\b\b\b\b\b\b\b\b\b\b\b\b\b\b\b\b\b\b\b\b\b\b\b\b\b\b\b\b\b\b\b\b\b\b\b\b\b\b\b\b\b\b\b\b\b\b\b\b\b\b\b\b\b\b\b\r64/80 [=======================>......] - ETA: 0s - loss: 0.8096 - acc: 0.7188",
      "\b\b\b\b\b\b\b\b\b\b\b\b\b\b\b\b\b\b\b\b\b\b\b\b\b\b\b\b\b\b\b\b\b\b\b\b\b\b\b\b\b\b\b\b\b\b\b\b\b\b\b\b\b\b\b\b\b\b\b\b\b\b\b\b\b\b\b\b\b\b\b\b\b\b\b\b\b\r80/80 [==============================] - 1s 14ms/step - loss: 0.7073 - acc: 0.7375 - val_loss: 0.7882 - val_acc: 0.6500\n",
      "Epoch 12/30\n",
      "\r32/80 [===========>..................] - ETA: 0s - loss: 0.5385 - acc: 0.7812",
      "\b\b\b\b\b\b\b\b\b\b\b\b\b\b\b\b\b\b\b\b\b\b\b\b\b\b\b\b\b\b\b\b\b\b\b\b\b\b\b\b\b\b\b\b\b\b\b\b\b\b\b\b\b\b\b\b\b\b\b\b\b\b\b\b\b\b\b\b\b\b\b\b\b\b\b\b\b\r64/80 [=======================>......] - ETA: 0s - loss: 0.5283 - acc: 0.7812",
      "\b\b\b\b\b\b\b\b\b\b\b\b\b\b\b\b\b\b\b\b\b\b\b\b\b\b\b\b\b\b\b\b\b\b\b\b\b\b\b\b\b\b\b\b\b\b\b\b\b\b\b\b\b\b\b\b\b\b\b\b\b\b\b\b\b\b\b\b\b\b\b\b\b\b\b\b\b\r80/80 [==============================] - 1s 14ms/step - loss: 0.4392 - acc: 0.8250 - val_loss: 0.8292 - val_acc: 0.6500\n",
      "Epoch 13/30\n",
      "\r32/80 [===========>..................] - ETA: 0s - loss: 0.4375 - acc: 0.9062",
      "\b\b\b\b\b\b\b\b\b\b\b\b\b\b\b\b\b\b\b\b\b\b\b\b\b\b\b\b\b\b\b\b\b\b\b\b\b\b\b\b\b\b\b\b\b\b\b\b\b\b\b\b\b\b\b\b\b\b\b\b\b\b\b\b\b\b\b\b\b\b\b\b\b\b\b\b\b\r64/80 [=======================>......] - ETA: 0s - loss: 0.4053 - acc: 0.8594",
      "\b\b\b\b\b\b\b\b\b\b\b\b\b\b\b\b\b\b\b\b\b\b\b\b\b\b\b\b\b\b\b\b\b\b\b\b\b\b\b\b\b\b\b\b\b\b\b\b\b\b\b\b\b\b\b\b\b\b\b\b\b\b\b\b\b\b\b\b\b\b\b\b\b\b\b\b\b\r80/80 [==============================] - 1s 16ms/step - loss: 0.4109 - acc: 0.8500 - val_loss: 0.8384 - val_acc: 0.6500\n",
      "Epoch 14/30\n",
      "\r32/80 [===========>..................] - ETA: 0s - loss: 0.6331 - acc: 0.7188",
      "\b\b\b\b\b\b\b\b\b\b\b\b\b\b\b\b\b\b\b\b\b\b\b\b\b\b\b\b\b\b\b\b\b\b\b\b\b\b\b\b\b\b\b\b\b\b\b\b\b\b\b\b\b\b\b\b\b\b\b\b\b\b\b\b\b\b\b\b\b\b\b\b\b\b\b\b\b\r64/80 [=======================>......] - ETA: 0s - loss: 0.4564 - acc: 0.7969",
      "\b\b\b\b\b\b\b\b\b\b\b\b\b\b\b\b\b\b\b\b\b\b\b\b\b\b\b\b\b\b\b\b\b\b\b\b\b\b\b\b\b\b\b\b\b\b\b\b\b\b\b\b\b\b\b\b\b\b\b\b\b\b\b\b\b\b\b\b\b\b\b\b\b\b\b\b\b\r80/80 [==============================] - 1s 16ms/step - loss: 0.4902 - acc: 0.8125 - val_loss: 0.8470 - val_acc: 0.6500\n",
      "Epoch 15/30\n",
      "\r32/80 [===========>..................] - ETA: 0s - loss: 0.3862 - acc: 0.7812",
      "\b\b\b\b\b\b\b\b\b\b\b\b\b\b\b\b\b\b\b\b\b\b\b\b\b\b\b\b\b\b\b\b\b\b\b\b\b\b\b\b\b\b\b\b\b\b\b\b\b\b\b\b\b\b\b\b\b\b\b\b\b\b\b\b\b\b\b\b\b\b\b\b\b\b\b\b\b\r64/80 [=======================>......] - ETA: 0s - loss: 0.5193 - acc: 0.7969",
      "\b\b\b\b\b\b\b\b\b\b\b\b\b\b\b\b\b\b\b\b\b\b\b\b\b\b\b\b\b\b\b\b\b\b\b\b\b\b\b\b\b\b\b\b\b\b\b\b\b\b\b\b\b\b\b\b\b\b\b\b\b\b\b\b\b\b\b\b\b\b\b\b\b\b\b\b\b\r80/80 [==============================] - 1s 15ms/step - loss: 0.5731 - acc: 0.7875 - val_loss: 0.8656 - val_acc: 0.6500\n",
      "Epoch 16/30\n",
      "\r32/80 [===========>..................] - ETA: 0s - loss: 0.6073 - acc: 0.7188",
      "\b\b\b\b\b\b\b\b\b\b\b\b\b\b\b\b\b\b\b\b\b\b\b\b\b\b\b\b\b\b\b\b\b\b\b\b\b\b\b\b\b\b\b\b\b\b\b\b\b\b\b\b\b\b\b\b\b\b\b\b\b\b\b\b\b\b\b\b\b\b\b\b\b\b\b\b\b\r64/80 [=======================>......] - ETA: 0s - loss: 0.4558 - acc: 0.7969",
      "\b\b\b\b\b\b\b\b\b\b\b\b\b\b\b\b\b\b\b\b\b\b\b\b\b\b\b\b\b\b\b\b\b\b\b\b\b\b\b\b\b\b\b\b\b\b\b\b\b\b\b\b\b\b\b\b\b\b\b\b\b\b\b\b\b\b\b\b\b\b\b\b\b\b\b\b\b\r80/80 [==============================] - 1s 14ms/step - loss: 0.3925 - acc: 0.8250 - val_loss: 0.8752 - val_acc: 0.6500\n",
      "Epoch 17/30\n",
      "\r32/80 [===========>..................] - ETA: 0s - loss: 0.3873 - acc: 0.8438",
      "\b\b\b\b\b\b\b\b\b\b\b\b\b\b\b\b\b\b\b\b\b\b\b\b\b\b\b\b\b\b\b\b\b\b\b\b\b\b\b\b\b\b\b\b\b\b\b\b\b\b\b\b\b\b\b\b\b\b\b\b\b\b\b\b\b\b\b\b\b\b\b\b\b\b\b\b\b\r64/80 [=======================>......] - ETA: 0s - loss: 0.4212 - acc: 0.7969",
      "\b\b\b\b\b\b\b\b\b\b\b\b\b\b\b\b\b\b\b\b\b\b\b\b\b\b\b\b\b\b\b\b\b\b\b\b\b\b\b\b\b\b\b\b\b\b\b\b\b\b\b\b\b\b\b\b\b\b\b\b\b\b\b\b\b\b\b\b\b\b\b\b\b\b\b\b\b\r80/80 [==============================] - 1s 14ms/step - loss: 0.4184 - acc: 0.8000 - val_loss: 0.8781 - val_acc: 0.6500\n",
      "Epoch 18/30\n",
      "\r32/80 [===========>..................] - ETA: 0s - loss: 0.7515 - acc: 0.7500",
      "\b\b\b\b\b\b\b\b\b\b\b\b\b\b\b\b\b\b\b\b\b\b\b\b\b\b\b\b\b\b\b\b\b\b\b\b\b\b\b\b\b\b\b\b\b\b\b\b\b\b\b\b\b\b\b\b\b\b\b\b\b\b\b\b\b\b\b\b\b\b\b\b\b\b\b\b\b\r64/80 [=======================>......] - ETA: 0s - loss: 0.5823 - acc: 0.7812",
      "\b\b\b\b\b\b\b\b\b\b\b\b\b\b\b\b\b\b\b\b\b\b\b\b\b\b\b\b\b\b\b\b\b\b\b\b\b\b\b\b\b\b\b\b\b\b\b\b\b\b\b\b\b\b\b\b\b\b\b\b\b\b\b\b\b\b\b\b\b\b\b\b\b\b\b\b\b\r80/80 [==============================] - 1s 13ms/step - loss: 0.5251 - acc: 0.7875 - val_loss: 0.8678 - val_acc: 0.6500\n",
      "Epoch 19/30\n",
      "\r32/80 [===========>..................] - ETA: 0s - loss: 0.4213 - acc: 0.8750",
      "\b\b\b\b\b\b\b\b\b\b\b\b\b\b\b\b\b\b\b\b\b\b\b\b\b\b\b\b\b\b\b\b\b\b\b\b\b\b\b\b\b\b\b\b\b\b\b\b\b\b\b\b\b\b\b\b\b\b\b\b\b\b\b\b\b\b\b\b\b\b\b\b\b\b\b\b\b\r64/80 [=======================>......] - ETA: 0s - loss: 0.3167 - acc: 0.8750",
      "\b\b\b\b\b\b\b\b\b\b\b\b\b\b\b\b\b\b\b\b\b\b\b\b\b\b\b\b\b\b\b\b\b\b\b\b\b\b\b\b\b\b\b\b\b\b\b\b\b\b\b\b\b\b\b\b\b\b\b\b\b\b\b\b\b\b\b\b\b\b\b\b\b\b\b\b\b\r80/80 [==============================] - 1s 14ms/step - loss: 0.3190 - acc: 0.8625 - val_loss: 0.8687 - val_acc: 0.6000\n",
      "Epoch 20/30\n",
      "\r32/80 [===========>..................] - ETA: 0s - loss: 0.5684 - acc: 0.7188",
      "\b\b\b\b\b\b\b\b\b\b\b\b\b\b\b\b\b\b\b\b\b\b\b\b\b\b\b\b\b\b\b\b\b\b\b\b\b\b\b\b\b\b\b\b\b\b\b\b\b\b\b\b\b\b\b\b\b\b\b\b\b\b\b\b\b\b\b\b\b\b\b\b\b\b\b\b\b\r64/80 [=======================>......] - ETA: 0s - loss: 0.5212 - acc: 0.7656",
      "\b\b\b\b\b\b\b\b\b\b\b\b\b\b\b\b\b\b\b\b\b\b\b\b\b\b\b\b\b\b\b\b\b\b\b\b\b\b\b\b\b\b\b\b\b\b\b\b\b\b\b\b\b\b\b\b\b\b\b\b\b\b\b\b\b\b\b\b\b\b\b\b\b\b\b\b\b\r80/80 [==============================] - 1s 14ms/step - loss: 0.5705 - acc: 0.7625 - val_loss: 0.8923 - val_acc: 0.6000\n",
      "Epoch 21/30\n",
      "\r32/80 [===========>..................] - ETA: 0s - loss: 0.2417 - acc: 0.9062",
      "\b\b\b\b\b\b\b\b\b\b\b\b\b\b\b\b\b\b\b\b\b\b\b\b\b\b\b\b\b\b\b\b\b\b\b\b\b\b\b\b\b\b\b\b\b\b\b\b\b\b\b\b\b\b\b\b\b\b\b\b\b\b\b\b\b\b\b\b\b\b\b\b\b\b\b\b\b\r64/80 [=======================>......] - ETA: 0s - loss: 0.3151 - acc: 0.8750",
      "\b\b\b\b\b\b\b\b\b\b\b\b\b\b\b\b\b\b\b\b\b\b\b\b\b\b\b\b\b\b\b\b\b\b\b\b\b\b\b\b\b\b\b\b\b\b\b\b\b\b\b\b\b\b\b\b\b\b\b\b\b\b\b\b\b\b\b\b\b\b\b\b\b\b\b\b\b\r80/80 [==============================] - 1s 14ms/step - loss: 0.3053 - acc: 0.8625 - val_loss: 0.9318 - val_acc: 0.6500\n",
      "Epoch 22/30\n",
      "\r32/80 [===========>..................] - ETA: 0s - loss: 0.1976 - acc: 0.8750",
      "\b\b\b\b\b\b\b\b\b\b\b\b\b\b\b\b\b\b\b\b\b\b\b\b\b\b\b\b\b\b\b\b\b\b\b\b\b\b\b\b\b\b\b\b\b\b\b\b\b\b\b\b\b\b\b\b\b\b\b\b\b\b\b\b\b\b\b\b\b\b\b\b\b\b\b\b\b\r64/80 [=======================>......] - ETA: 0s - loss: 0.4149 - acc: 0.8125",
      "\b\b\b\b\b\b\b\b\b\b\b\b\b\b\b\b\b\b\b\b\b\b\b\b\b\b\b\b\b\b\b\b\b\b\b\b\b\b\b\b\b\b\b\b\b\b\b\b\b\b\b\b\b\b\b\b\b\b\b\b\b\b\b\b\b\b\b\b\b\b\b\b\b\b\b\b\b\r80/80 [==============================] - 1s 14ms/step - loss: 0.3675 - acc: 0.8375 - val_loss: 0.9839 - val_acc: 0.6000\n",
      "Epoch 23/30\n",
      "\r32/80 [===========>..................] - ETA: 0s - loss: 0.6937 - acc: 0.7500",
      "\b\b\b\b\b\b\b\b\b\b\b\b\b\b\b\b\b\b\b\b\b\b\b\b\b\b\b\b\b\b\b\b\b\b\b\b\b\b\b\b\b\b\b\b\b\b\b\b\b\b\b\b\b\b\b\b\b\b\b\b\b\b\b\b\b\b\b\b\b\b\b\b\b\b\b\b\b\r64/80 [=======================>......] - ETA: 0s - loss: 0.5156 - acc: 0.7969",
      "\b\b\b\b\b\b\b\b\b\b\b\b\b\b\b\b\b\b\b\b\b\b\b\b\b\b\b\b\b\b\b\b\b\b\b\b\b\b\b\b\b\b\b\b\b\b\b\b\b\b\b\b\b\b\b\b\b\b\b\b\b\b\b\b\b\b\b\b\b\b\b\b\b\b\b\b\b\r80/80 [==============================] - 1s 14ms/step - loss: 0.4856 - acc: 0.8125 - val_loss: 1.0353 - val_acc: 0.6000\n",
      "Epoch 24/30\n",
      "\r32/80 [===========>..................] - ETA: 0s - loss: 0.2834 - acc: 0.8750",
      "\b\b\b\b\b\b\b\b\b\b\b\b\b\b\b\b\b\b\b\b\b\b\b\b\b\b\b\b\b\b\b\b\b\b\b\b\b\b\b\b\b\b\b\b\b\b\b\b\b\b\b\b\b\b\b\b\b\b\b\b\b\b\b\b\b\b\b\b\b\b\b\b\b\b\b\b\b\r64/80 [=======================>......] - ETA: 0s - loss: 0.2722 - acc: 0.8750",
      "\b\b\b\b\b\b\b\b\b\b\b\b\b\b\b\b\b\b\b\b\b\b\b\b\b\b\b\b\b\b\b\b\b\b\b\b\b\b\b\b\b\b\b\b\b\b\b\b\b\b\b\b\b\b\b\b\b\b\b\b\b\b\b\b\b\b\b\b\b\b\b\b\b\b\b\b\b\r80/80 [==============================] - 1s 14ms/step - loss: 0.2397 - acc: 0.9000 - val_loss: 1.0840 - val_acc: 0.5500\n",
      "Epoch 25/30\n",
      "\r32/80 [===========>..................] - ETA: 0s - loss: 0.1767 - acc: 0.9062",
      "\b\b\b\b\b\b\b\b\b\b\b\b\b\b\b\b\b\b\b\b\b\b\b\b\b\b\b\b\b\b\b\b\b\b\b\b\b\b\b\b\b\b\b\b\b\b\b\b\b\b\b\b\b\b\b\b\b\b\b\b\b\b\b\b\b\b\b\b\b\b\b\b\b\b\b\b\b\r64/80 [=======================>......] - ETA: 0s - loss: 0.2277 - acc: 0.8906",
      "\b\b\b\b\b\b\b\b\b\b\b\b\b\b\b\b\b\b\b\b\b\b\b\b\b\b\b\b\b\b\b\b\b\b\b\b\b\b\b\b\b\b\b\b\b\b\b\b\b\b\b\b\b\b\b\b\b\b\b\b\b\b\b\b\b\b\b\b\b\b\b\b\b\b\b\b\b\r80/80 [==============================] - 1s 14ms/step - loss: 0.2303 - acc: 0.8875 - val_loss: 1.0769 - val_acc: 0.6000\n",
      "Epoch 26/30\n",
      "\r32/80 [===========>..................] - ETA: 0s - loss: 0.2733 - acc: 0.9375",
      "\b\b\b\b\b\b\b\b\b\b\b\b\b\b\b\b\b\b\b\b\b\b\b\b\b\b\b\b\b\b\b\b\b\b\b\b\b\b\b\b\b\b\b\b\b\b\b\b\b\b\b\b\b\b\b\b\b\b\b\b\b\b\b\b\b\b\b\b\b\b\b\b\b\b\b\b\b\r64/80 [=======================>......] - ETA: 0s - loss: 0.1830 - acc: 0.9688",
      "\b\b\b\b\b\b\b\b\b\b\b\b\b\b\b\b\b\b\b\b\b\b\b\b\b\b\b\b\b\b\b\b\b\b\b\b\b\b\b\b\b\b\b\b\b\b\b\b\b\b\b\b\b\b\b\b\b\b\b\b\b\b\b\b\b\b\b\b\b\b\b\b\b\b\b\b\b\r80/80 [==============================] - 1s 14ms/step - loss: 0.1644 - acc: 0.9750 - val_loss: 1.0548 - val_acc: 0.6000\n",
      "Epoch 27/30\n",
      "\r32/80 [===========>..................] - ETA: 0s - loss: 0.2551 - acc: 0.8750",
      "\b\b\b\b\b\b\b\b\b\b\b\b\b\b\b\b\b\b\b\b\b\b\b\b\b\b\b\b\b\b\b\b\b\b\b\b\b\b\b\b\b\b\b\b\b\b\b\b\b\b\b\b\b\b\b\b\b\b\b\b\b\b\b\b\b\b\b\b\b\b\b\b\b\b\b\b\b\r64/80 [=======================>......] - ETA: 0s - loss: 0.2695 - acc: 0.8594",
      "\b\b\b\b\b\b\b\b\b\b\b\b\b\b\b\b\b\b\b\b\b\b\b\b\b\b\b\b\b\b\b\b\b\b\b\b\b\b\b\b\b\b\b\b\b\b\b\b\b\b\b\b\b\b\b\b\b\b\b\b\b\b\b\b\b\b\b\b\b\b\b\b\b\b\b\b\b\r80/80 [==============================] - 1s 13ms/step - loss: 0.2793 - acc: 0.8625 - val_loss: 1.0387 - val_acc: 0.6000\n",
      "Epoch 28/30\n",
      "\r32/80 [===========>..................] - ETA: 0s - loss: 0.2421 - acc: 0.8750",
      "\b\b\b\b\b\b\b\b\b\b\b\b\b\b\b\b\b\b\b\b\b\b\b\b\b\b\b\b\b\b\b\b\b\b\b\b\b\b\b\b\b\b\b\b\b\b\b\b\b\b\b\b\b\b\b\b\b\b\b\b\b\b\b\b\b\b\b\b\b\b\b\b\b\b\b\b\b\r64/80 [=======================>......] - ETA: 0s - loss: 0.2045 - acc: 0.9062",
      "\b\b\b\b\b\b\b\b\b\b\b\b\b\b\b\b\b\b\b\b\b\b\b\b\b\b\b\b\b\b\b\b\b\b\b\b\b\b\b\b\b\b\b\b\b\b\b\b\b\b\b\b\b\b\b\b\b\b\b\b\b\b\b\b\b\b\b\b\b\b\b\b\b\b\b\b\b\r80/80 [==============================] - 1s 14ms/step - loss: 0.2359 - acc: 0.8875 - val_loss: 1.0178 - val_acc: 0.6000\n",
      "Epoch 29/30\n",
      "\r32/80 [===========>..................] - ETA: 0s - loss: 0.0999 - acc: 0.9688",
      "\b\b\b\b\b\b\b\b\b\b\b\b\b\b\b\b\b\b\b\b\b\b\b\b\b\b\b\b\b\b\b\b\b\b\b\b\b\b\b\b\b\b\b\b\b\b\b\b\b\b\b\b\b\b\b\b\b\b\b\b\b\b\b\b\b\b\b\b\b\b\b\b\b\b\b\b\b\r64/80 [=======================>......] - ETA: 0s - loss: 0.1151 - acc: 0.9688",
      "\b\b\b\b\b\b\b\b\b\b\b\b\b\b\b\b\b\b\b\b\b\b\b\b\b\b\b\b\b\b\b\b\b\b\b\b\b\b\b\b\b\b\b\b\b\b\b\b\b\b\b\b\b\b\b\b\b\b\b\b\b\b\b\b\b\b\b\b\b\b\b\b\b\b\b\b\b\r80/80 [==============================] - 1s 14ms/step - loss: 0.1058 - acc: 0.9625 - val_loss: 1.0102 - val_acc: 0.6000\n",
      "Epoch 30/30\n",
      "\r32/80 [===========>..................] - ETA: 0s - loss: 0.1755 - acc: 1.0000",
      "\b\b\b\b\b\b\b\b\b\b\b\b\b\b\b\b\b\b\b\b\b\b\b\b\b\b\b\b\b\b\b\b\b\b\b\b\b\b\b\b\b\b\b\b\b\b\b\b\b\b\b\b\b\b\b\b\b\b\b\b\b\b\b\b\b\b\b\b\b\b\b\b\b\b\b\b\b\r64/80 [=======================>......] - ETA: 0s - loss: 0.2652 - acc: 0.9062",
      "\b\b\b\b\b\b\b\b\b\b\b\b\b\b\b\b\b\b\b\b\b\b\b\b\b\b\b\b\b\b\b\b\b\b\b\b\b\b\b\b\b\b\b\b\b\b\b\b\b\b\b\b\b\b\b\b\b\b\b\b\b\b\b\b\b\b\b\b\b\b\b\b\b\b\b\b\b\r80/80 [==============================] - 1s 14ms/step - loss: 0.3080 - acc: 0.8875 - val_loss: 1.0160 - val_acc: 0.5500\n"
     ],
     "output_type": "stream"
    },
    {
     "data": {
      "text/plain": "<keras.callbacks.History at 0x7f2fa99b6470>"
     },
     "metadata": {},
     "output_type": "execute_result",
     "execution_count": 28
    }
   ],
   "source": [
    "\n",
    "from sklearn.utils import shuffle\n",
    "from keras.layers import Dropout\n",
    "\n",
    "X,y = shuffle(X,y)\n",
    "model2 = Sequential()\n",
    "model2.add(Dense(X.shape[1], activation='relu'))\n",
    "model2.add(Dropout(0.4))\n",
    "model2.add(Dense(1024, activation='relu'))\n",
    "model2.add(Dropout(0.4))\n",
    "model2.add(Dense(128, activation='relu'))\n",
    "model2.add(Dropout(0.3))\n",
    "model2.add(Dense(1, activation='sigmoid'))\n",
    "from keras.optimizers import SGD\n",
    "adam = Adam(lr=0.000001)\n",
    "model2.compile(loss='binary_crossentropy', optimizer=adam, metrics=['accuracy'])\n",
    "model2.fit(X, y, epochs=30,validation_split=0.3)"
   ],
   "metadata": {
    "collapsed": false,
    "pycharm": {
     "name": "#%% Learning\n",
     "is_executing": false
    }
   }
  },
  {
   "cell_type": "code",
   "execution_count": 37,
   "outputs": [
    {
     "name": "stdout",
     "text": [
      "                      img_pair  is_related\n0  face05508.jpg-face01210.jpg           0\n1  face05750.jpg-face00898.jpg           0\n2  face05820.jpg-face03938.jpg           0\n3  face02104.jpg-face01172.jpg           0\n4  face02428.jpg-face05611.jpg           0\n",
      "[[2.927374   0.         0.03122351 ... 1.8139669  0.0205928  0.        ]]\n[[0.3652932]]\nface01210.jpg\n                      img_pair  is_related\n0  face05508.jpg-face01210.jpg           0\n1  face05750.jpg-face00898.jpg           0\n2  face05820.jpg-face03938.jpg           0\n3  face02104.jpg-face01172.jpg           0\n4  face02428.jpg-face05611.jpg           0\n"
     ],
     "output_type": "stream"
    }
   ],
   "source": [
    "def create_vector_from_images(img1_path,img2_path):\n",
    "    img1 = prepare_image(img1_path)\n",
    "    img2 = prepare_image(img2_path)\n",
    "    X = np.concatenate((img1,img2),axis=1)\n",
    "    return X\n",
    "    \n",
    "df = pd.read_csv(CSV_TEST)\n",
    "print(df.head())\n",
    "for index, row in df.iterrows():\n",
    "    pair = row['img_pair']\n",
    "    left_img, right_img = pair.split('-')\n",
    "    X = create_vector_from_images(TEST_PATH+left_img, TEST_PATH+right_img)\n",
    "    \n",
    "    result = model2.predict(X)\n",
    "    if result[0][0] >= 0.5:\n",
    "        print('-',end='',flush=True)\n",
    "        df.loc[index, 'is_related']=1\n",
    "    else:\n",
    "        print('.',end='',flush=True)\n",
    "df.to_csv('results.csv', index=False)\n",
    "print(df.head())"
   ],
   "metadata": {
    "collapsed": false,
    "pycharm": {
     "name": "#%% CSV predict",
     "is_executing": false
    }
   }
  }
 ],
 "metadata": {
  "language_info": {
   "codemirror_mode": {
    "name": "ipython",
    "version": 2
   },
   "file_extension": ".py",
   "mimetype": "text/x-python",
   "name": "python",
   "nbconvert_exporter": "python",
   "pygments_lexer": "ipython2",
   "version": "2.7.6"
  },
  "kernelspec": {
   "name": "python3",
   "language": "python",
   "display_name": "Python 3"
  },
  "pycharm": {
   "stem_cell": {
    "cell_type": "raw",
    "source": [],
    "metadata": {
     "collapsed": false
    }
   }
  }
 },
 "nbformat": 4,
 "nbformat_minor": 0
}