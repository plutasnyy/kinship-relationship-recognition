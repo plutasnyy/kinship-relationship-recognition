{
 "cells": [
  {
   "cell_type": "code",
   "execution_count": 1,
   "outputs": [
    {
     "name": "stderr",
     "text": [
      "Using TensorFlow backend.\n"
     ],
     "output_type": "stream"
    },
    {
     "name": "stdout",
     "text": [
      "START\n",
      ".",
      ".",
      ".",
      ".",
      "Construct batch\n",
      "100\n"
     ],
     "output_type": "stream"
    }
   ],
   "source": [
    "import pandas as pd\n",
    "import glob\n",
    "import numpy as np\n",
    "from random import sample\n",
    "from keras import Sequential\n",
    "from keras.layers import Dense\n",
    "from keras.optimizers import Adam\n",
    "from keras_vggface import VGGFace, utils\n",
    "from sklearn.model_selection import train_test_split\n",
    "from keras.preprocessing import image\n",
    "from sklearn.utils import shuffle\n",
    "DATA_PATH = '../data/'\n",
    "\n",
    "RELATIONSHIPS_PATH = DATA_PATH + 'train_relationships.csv'\n",
    "IMAGE_EXPRESSION = DATA_PATH + 'train/{}/*'\n",
    "PEOPLE_NAMES_EXPRESSION = DATA_PATH + 'train/*/*'\n",
    "TRAIN_PATH = DATA_PATH + 'train/'\n",
    "\n",
    "HALF_DATA_SET_SIZE = 50\n",
    "print(\"START\")\n",
    "model = VGGFace(model='resnet50',  include_top=False, input_shape=(224, 224, 3), pooling='avg')\n",
    "\n",
    "class EmptyFolderSadSituation(BaseException):\n",
    "    pass\n",
    "\n",
    "def preprocess_image(person_directory_path):\n",
    "    paths = glob.glob(person_directory_path)\n",
    "    if len(paths) == 0:\n",
    "        raise EmptyFolderSadSituation\n",
    "    image_path = sample(paths, 1)[0]\n",
    "    img = image.load_img(image_path, target_size=(224, 224,3))\n",
    "    x = image.img_to_array(img)\n",
    "    # x = np.expand_dims(x, axis=0)\n",
    "    x = utils.preprocess_input(x, version=1)\n",
    "    # preds = model.predict(x)\n",
    "    return x\n",
    "\n",
    "def is_pair_in_relation(relations, pair):\n",
    "    p1, p2 = pair\n",
    "    if p1 == p2:\n",
    "        return True\n",
    "    return relations.query('p1==\"{}\" and p2==\"{}\" or p1==\"{}\" and p2==\"{}\"'.format(p1, p2, p2, p1))['p1'].count() != 0\n",
    "\n",
    "\n",
    "def clean_relations_batch(relations_batch, people_names):\n",
    "    relations = relations_batch.values\n",
    "    result = dict()\n",
    "    result['p1'], result['p2'] = list(), list()\n",
    "    for p1, p2 in relations:\n",
    "        # TODO instead of pd -> numpy -> pd filter on data frame\n",
    "        if p1 in people_names and p2 in people_names:\n",
    "            result['p1'].append(p1)\n",
    "            result['p2'].append(p2)\n",
    "    return pd.DataFrame.from_dict(result)\n",
    "\n",
    "\n",
    "def construct_batch(relations_list):\n",
    "    pairs = list()\n",
    "    Y = list()\n",
    "    z=0\n",
    "    for i, relations in enumerate(relations_list):\n",
    "        for left_image_name, right_image_name in relations:\n",
    "            try:\n",
    "                left = preprocess_image(IMAGE_EXPRESSION.format(left_image_name))\n",
    "                right = preprocess_image(IMAGE_EXPRESSION.format(right_image_name))\n",
    "                pairs.append([left,right])\n",
    "                # pairs.append(np.concatenate((left,right),axis=None))\n",
    "                Y += [i]\n",
    "            except EmptyFolderSadSituation:\n",
    "                pass # really sad\n",
    "            z+=1\n",
    "            if z%100 == 0:\n",
    "                print(z)\n",
    "    return pairs, Y\n",
    "\n",
    "print('.',end='',flush=True)\n",
    "relations_df = pd.read_csv(RELATIONSHIPS_PATH)\n",
    "\n",
    "\n",
    "print('.',end='',flush=True)\n",
    "names = glob.glob(PEOPLE_NAMES_EXPRESSION)\n",
    "people_names = [name.replace(TRAIN_PATH, '') for name in names]\n",
    "\n",
    "print('.',end='',flush=True)\n",
    "relations_df = clean_relations_batch(relations_df, people_names)\n",
    "relations_batch = relations_df.sample(HALF_DATA_SET_SIZE, replace=True).values.tolist()\n",
    "\n",
    "print('.',end='',flush=True)\n",
    "not_relations_batch = list()\n",
    "\n",
    "while len(not_relations_batch) < HALF_DATA_SET_SIZE:\n",
    "    random_pair = sample(people_names, 2)\n",
    "    if not is_pair_in_relation(relations_df, random_pair):\n",
    "        not_relations_batch.append(random_pair)\n",
    "\n",
    "print(\"Construct batch\")\n",
    "pairs, Y = construct_batch([not_relations_batch, relations_batch])"
   ],
   "metadata": {
    "collapsed": false,
    "pycharm": {
     "name": "#%% Create Image Pairs\n",
     "is_executing": false
    }
   }
  },
  {
   "cell_type": "code",
   "execution_count": 3,
   "outputs": [
    {
     "name": "stdout",
     "text": [
      ".",
      ".",
      "(100, 4096)\nData loaded\n"
     ],
     "output_type": "stream"
    }
   ],
   "source": [
    "X = np.array(pairs)\n",
    "y = np.array(Y)\n",
    "\n",
    "left = X[:,0]\n",
    "right = X[:,1]\n",
    "print('.',end='',flush=True)\n",
    "left_result, right_result = model.predict(left), model.predict(right)\n",
    "print('.',end='',flush=True)\n",
    "X = np.concatenate((left_result,right_result),axis=1)\n",
    "print(X.shape)\n",
    "print('Data loaded')"
   ],
   "metadata": {
    "collapsed": false,
    "pycharm": {
     "name": "#%%\n",
     "is_executing": false
    }
   }
  },
  {
   "cell_type": "code",
   "execution_count": 5,
   "outputs": [],
   "source": [
    "\n",
    "from sklearn.utils import shuffle\n",
    "from keras.layers import Dropout\n",
    "\n",
    "X,y = shuffle(X,y)\n",
    "model2 = Sequential()\n",
    "model2.add(Dense(X.shape[1], activation='relu'))\n",
    "model2.add(Dropout(0.4))\n",
    "model2.add(Dense(2048, activation='relu'))\n",
    "model2.add(Dropout(0.4))\n",
    "model2.add(Dense(512, activation='relu'))\n",
    "model2.add(Dropout(0.3))\n",
    "model2.add(Dense(1, activation='sigmoid'))\n",
    "from keras.optimizers import SGD\n",
    "adam = Adam(lr=0.00001)\n",
    "model2.compile(loss='binary_crossentropy', optimizer=adam, metrics=['accuracy'])\n",
    "model2.fit(X, y, epochs=30,validation_split=0.2)"
   ],
   "metadata": {
    "collapsed": false,
    "pycharm": {
     "name": "#%%\n",
     "is_executing": false
    }
   }
  },
  {
   "cell_type": "code",
   "execution_count": null,
   "outputs": [],
   "source": [],
   "metadata": {
    "collapsed": false,
    "pycharm": {
     "name": "#%% CSV predict"
    }
   }
  }
 ],
 "metadata": {
  "language_info": {
   "codemirror_mode": {
    "name": "ipython",
    "version": 2
   },
   "file_extension": ".py",
   "mimetype": "text/x-python",
   "name": "python",
   "nbconvert_exporter": "python",
   "pygments_lexer": "ipython2",
   "version": "2.7.6"
  },
  "kernelspec": {
   "name": "python3",
   "language": "python",
   "display_name": "Python 3"
  },
  "pycharm": {
   "stem_cell": {
    "cell_type": "raw",
    "source": [],
    "metadata": {
     "collapsed": false
    }
   }
  }
 },
 "nbformat": 4,
 "nbformat_minor": 0
}